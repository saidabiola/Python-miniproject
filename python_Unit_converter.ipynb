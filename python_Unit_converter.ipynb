{
 "cells": [
  {
   "cell_type": "markdown",
   "id": "26f80996-4f79-45c8-b195-50fcde082156",
   "metadata": {},
   "source": [
    "**Unit Converter App**"
   ]
  },
  {
   "cell_type": "code",
   "execution_count": 35,
   "id": "40836a8c-3af7-4cbc-86dc-31d19271a180",
   "metadata": {},
   "outputs": [
    {
     "name": "stdin",
     "output_type": "stream",
     "text": [
      "Enter your name: BEN\n"
     ]
    },
    {
     "name": "stdout",
     "output_type": "stream",
     "text": [
      "Hello BEN Welcome to your favorite unit converter that converts from kilometers to meters\n"
     ]
    },
    {
     "name": "stdin",
     "output_type": "stream",
     "text": [
      "Enter your value here in kilometers 2\n"
     ]
    },
    {
     "name": "stdout",
     "output_type": "stream",
     "text": [
      "The answer is: 2000 Meters\n"
     ]
    }
   ],
   "source": [
    "user_name = input(\"Enter your name:\")\n",
    "print(f\"Hello {user_name} Welcome to your favorite unit converter that converts f\\\n",
    "rom kilometers to meters\")\n",
    "unit_km = int(input(\"Enter your value here in kilometers\"))\n",
    "\n",
    "\n",
    "print(f\"The answer is: {unit_in_meters} Meters\")\n"
   ]
  },
  {
   "cell_type": "markdown",
   "id": "6bb8c721-4b0e-4b82-bbb1-fdc24011a3b0",
   "metadata": {},
   "source": [
    "**Advanced Unit converter application**"
   ]
  },
  {
   "cell_type": "code",
   "execution_count": null,
   "id": "d9bfb2bc-a09a-4c8b-9f49-73939f163edf",
   "metadata": {},
   "outputs": [],
   "source": [
    "#converting meters to kiolometers\n",
    "username = input(\"Enter your name\")\n",
    "print(f\"Hello {username} welcome to your favorite unit converter app\")\n",
    "def to_kilometers(val1):\n",
    "    result = val1/1000\n",
    "    return result\n",
    "val1 = to_kilometers(int(input(\"Enter your value here in meters: \")))\n",
    "\n",
    "print(f\"The value in kilometers is: {val1} KM\")\n",
    "\n",
    "#Converting kiolometers back to meters\n",
    "def to_meters(val2):\n",
    "    result = 1000*val2\n",
    "    return result\n",
    "val2 = to_meters(int(input(\"Enter your value in Kilometers: \")))\n",
    "print(f\"The answer in meters is: {val2} M\")\n",
    "print(\"Thanks for using our App, welcome again next time\")"
   ]
  }
 ],
 "metadata": {
  "kernelspec": {
   "display_name": "Python 3 (ipykernel)",
   "language": "python",
   "name": "python3"
  },
  "language_info": {
   "codemirror_mode": {
    "name": "ipython",
    "version": 3
   },
   "file_extension": ".py",
   "mimetype": "text/x-python",
   "name": "python",
   "nbconvert_exporter": "python",
   "pygments_lexer": "ipython3",
   "version": "3.11.7"
  }
 },
 "nbformat": 4,
 "nbformat_minor": 5
}
