{
 "cells": [
  {
   "cell_type": "markdown",
   "id": "07121e31-e5bf-4492-800c-420f2cf4c9bc",
   "metadata": {},
   "source": [
    "**Give a 10% discount if customer buys goods worth a 1000 shillings or more**"
   ]
  },
  {
   "cell_type": "code",
   "execution_count": 10,
   "id": "7402904f-a1fe-4294-82c2-2e73f3a32f6c",
   "metadata": {},
   "outputs": [
    {
     "name": "stdin",
     "output_type": "stream",
     "text": [
      "Enter the price:  400\n",
      "Enter the quantity bought:  4\n"
     ]
    },
    {
     "name": "stdout",
     "output_type": "stream",
     "text": [
      "10% Discount is available for you\n",
      "The amount after discount: 1440.0\n",
      "Amount Before discount is: 1600\n"
     ]
    }
   ],
   "source": [
    "price = int(input(\"Enter the price: \"))\n",
    "Quantity = int(input(\"Enter the quantity bought: \"))\n",
    "amount = price * Quantity\n",
    "if amount >= 1000:\n",
    "    print(\"10% Discount is available for you\")\n",
    "    discount = 10/100 *amount\n",
    "    Discounted_amount = amount - discount\n",
    "    print( f\"The amount after discount: {Discounted_amount}\")\n",
    "print(f\"Amount Before discount is: {amount}\")\n",
    "    "
   ]
  },
  {
   "cell_type": "code",
   "execution_count": null,
   "id": "cd3b5eb7-41ed-423e-8cb9-ba401decfa3b",
   "metadata": {},
   "outputs": [],
   "source": []
  }
 ],
 "metadata": {
  "kernelspec": {
   "display_name": "Python 3 (ipykernel)",
   "language": "python",
   "name": "python3"
  },
  "language_info": {
   "codemirror_mode": {
    "name": "ipython",
    "version": 3
   },
   "file_extension": ".py",
   "mimetype": "text/x-python",
   "name": "python",
   "nbconvert_exporter": "python",
   "pygments_lexer": "ipython3",
   "version": "3.11.7"
  }
 },
 "nbformat": 4,
 "nbformat_minor": 5
}
