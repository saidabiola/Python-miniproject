{
 "cells": [
  {
   "cell_type": "code",
   "execution_count": 3,
   "id": "69402355-71a7-4ac6-984b-6c831b9090d3",
   "metadata": {},
   "outputs": [
    {
     "name": "stdout",
     "output_type": "stream",
     "text": [
      "Welcome to the first miniprject! I am an application that takes a message and a letter from you. My task is to count how many times this letter occured and to calculate its percentage\n"
     ]
    }
   ],
   "source": [
    "print(\"Welcome to the first miniprject! I am an application that takes a message and a letter from you. My task is to count how many times this letter occured and to calculate its percentage\")"
   ]
  },
  {
   "cell_type": "code",
   "execution_count": 4,
   "id": "2b44b870-5f1f-4900-835f-5b10597b703c",
   "metadata": {},
   "outputs": [
    {
     "name": "stdin",
     "output_type": "stream",
     "text": [
      "Please enter your message: The code is so goood\n",
      "please enter the letter:  o\n"
     ]
    }
   ],
   "source": [
    "user_message = input(\"Please enter your message:\")\n",
    "user_letter = input(\"please enter the letter: \")"
   ]
  },
  {
   "cell_type": "markdown",
   "id": "39304aad-1ff6-4989-8ea4-7cab1dd5f2bf",
   "metadata": {},
   "source": [
    "#Counting the occurences"
   ]
  },
  {
   "cell_type": "code",
   "execution_count": 5,
   "id": "957ff3a8-be2d-42bc-aa4c-b890700b501a",
   "metadata": {},
   "outputs": [],
   "source": [
    "letter_count = user_message.count(user_letter)"
   ]
  },
  {
   "cell_type": "markdown",
   "id": "5f6b6461-4260-45b6-8a92-76713a9147f6",
   "metadata": {},
   "source": [
    "#Calculate the percentage of letter occurence\n"
   ]
  },
  {
   "cell_type": "code",
   "execution_count": 6,
   "id": "c460d9be-9d43-458b-831f-cbda79567bd9",
   "metadata": {},
   "outputs": [],
   "source": [
    "letter_percentage = letter_count / len(user_message)*100"
   ]
  },
  {
   "cell_type": "markdown",
   "id": "c5b52293-475f-42a6-960b-c2c7f76e697d",
   "metadata": {},
   "source": [
    "**Print the output of the user**"
   ]
  },
  {
   "cell_type": "code",
   "execution_count": 8,
   "id": "58b119c9-baa1-4630-967d-77ebc4c095ad",
   "metadata": {},
   "outputs": [
    {
     "name": "stdout",
     "output_type": "stream",
     "text": [
      "your message is: The code is so goood \n",
      "Your letter is: o \n",
      "Your letter count is: 5 \n",
      "Your letter percentage of occurence in your message is: 25.0 %\n"
     ]
    }
   ],
   "source": [
    "print(f\"your message is: {user_message} \\nYour letter is: {user_letter} \\nYour let\\\n",
    "ter count is: {letter_count} \\nYour letter percentage of occurence in your message i\\\n",
    "s: {letter_percentage} %\")"
   ]
  },
  {
   "cell_type": "code",
   "execution_count": null,
   "id": "94d6c52d-7299-4d02-a091-5bce9206b3ec",
   "metadata": {},
   "outputs": [],
   "source": [
    "\n"
   ]
  }
 ],
 "metadata": {
  "kernelspec": {
   "display_name": "Python 3 (ipykernel)",
   "language": "python",
   "name": "python3"
  },
  "language_info": {
   "codemirror_mode": {
    "name": "ipython",
    "version": 3
   },
   "file_extension": ".py",
   "mimetype": "text/x-python",
   "name": "python",
   "nbconvert_exporter": "python",
   "pygments_lexer": "ipython3",
   "version": "3.11.7"
  }
 },
 "nbformat": 4,
 "nbformat_minor": 5
}
